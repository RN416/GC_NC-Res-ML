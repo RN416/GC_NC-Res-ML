{
 "cells": [
  {
   "cell_type": "code",
   "execution_count": 1,
   "id": "cb77dedc",
   "metadata": {},
   "outputs": [
    {
     "name": "stdout",
     "output_type": "stream",
     "text": [
      "/Users/zhounan/Documents/Github_Project/GC_NC-Res/GC_prognosis_model\n"
     ]
    }
   ],
   "source": [
    "import os\n",
    "import sys\n",
    "file_path = globals()['_dh'][0]\n",
    "root_dir = os.path.abspath(os.path.join(file_path, ''))\n",
    "sys.path.append(root_dir)\n",
    "sys.dont_write_bytecode = True\n",
    "os.chdir(root_dir)\n",
    "print(root_dir)"
   ]
  },
  {
   "cell_type": "code",
   "execution_count": 4,
   "id": "d7d9717d",
   "metadata": {},
   "outputs": [],
   "source": [
    "### Copyright (c) 2022[Yizi Zhao]. All rights reserved.\n",
    "### Licensed under the MIT License.\n",
    "### import necessary packages\n",
    "from itertools import product\n",
    "import pandas as pd\n",
    "import matplotlib.pyplot as plt\n",
    "import numpy as np\n",
    "%matplotlib inline\n",
    "\n",
    "from sklearn.model_selection import train_test_split\n",
    "from sklearn.preprocessing import OrdinalEncoder\n",
    "from sklearn import datasets\n",
    "from sklearn.tree import DecisionTreeClassifier\n",
    "from sklearn.tree import export_graphviz\n",
    "from IPython.display import Image\n",
    "from sklearn import tree\n",
    "import pydotplus\n",
    "import os       \n",
    "\n",
    "from sksurv.datasets import load_gbsg2\n",
    "from sksurv.preprocessing import OneHotEncoder\n",
    "from sksurv.ensemble import RandomSurvivalForest\n",
    "\n",
    "# from eli5.sklearn import PermutationImportance\n",
    "from sklearn.inspection import permutation_importance\n",
    "from sklearn.metrics import roc_curve, roc_auc_score, f1_score"
   ]
  },
  {
   "cell_type": "code",
   "execution_count": 5,
   "id": "0c5cc031",
   "metadata": {},
   "outputs": [],
   "source": [
    "##### settings #####\n",
    "random_state=20 # control reproducibility \n",
    "n_estimators=1000 # fit a Random Survival Forest comprising 1000 trees\n",
    "min_samples_split=10 # The minimum number of samples required to split an internal node\n",
    "min_samples_leaf=15 # The minimum number of samples required to be at a leaf node. \n",
    "max_features=\"sqrt\" #The number of features to consider when looking for the best split,If “sqrt”, then max_features=sqrt(n_features)\n",
    "n_jobs=-1 #The number of jobs to run in parallel for both fit and predict.-1 means using all processors."
   ]
  },
  {
   "cell_type": "code",
   "execution_count": 6,
   "id": "38d1a111",
   "metadata": {},
   "outputs": [
    {
     "name": "stdout",
     "output_type": "stream",
     "text": [
      "train test info:\n",
      "train, survival-death (array([0, 1]), array([97, 24]))\n",
      "test, survival-death (array([0, 1]), array([50, 10]))\n"
     ]
    }
   ],
   "source": [
    "Xtrain = pd.read_excel('Data/Xtrain.xlsx',index_col=0)\n",
    "ytrain = pd.read_excel('Data/ytrain.xlsx',index_col=0)\n",
    "Xtest = pd.read_excel('Data/Xtest.xlsx',index_col=0)\n",
    "ytest = pd.read_excel('Data/ytest.xlsx',index_col=0)\n",
    "\n",
    "Xtrain_sample=Xtrain[\"Sample\"]\n",
    "Xtrain = Xtrain.drop([\"Sample\"],axis=1)\n",
    "ytrain = ytrain.drop([\"Sample\"],axis=1)\n",
    "Xtest_sample=Xtest[\"Sample\"]\n",
    "Xtest = Xtest.drop([\"Sample\"],axis=1)\n",
    "ytest = ytest.drop([\"Sample\"],axis=1)\n",
    "\n",
    "y_train=np.array(ytrain)\n",
    "y_test=np.array(ytest)\n",
    "print(\"train test info:\")\n",
    "print(\"train, survival-death\", np.unique(y_train[:,1],return_counts=True))\n",
    "print(\"test, survival-death\", np.unique(y_test[:,1],return_counts=True))"
   ]
  },
  {
   "cell_type": "code",
   "execution_count": 7,
   "id": "fbefbf9e",
   "metadata": {},
   "outputs": [
    {
     "name": "stderr",
     "output_type": "stream",
     "text": [
      "/var/folders/tx/33p3vvbj575_4t2tg1fd6sy80000gn/T/ipykernel_24168/3072647113.py:3: FutureWarning: Setting an item of incompatible dtype is deprecated and will raise in a future error of pandas. Value '[False False False False False False False False  True False False False\n",
      " False False False False False False  True False  True False False False\n",
      " False False False False False False  True  True  True False False  True\n",
      "  True  True False  True False False False False  True False False False\n",
      " False False False False False False  True False False  True False False\n",
      " False False False False False False False False False False False False\n",
      " False False False False False  True False  True False False  True False\n",
      "  True False False False  True False False False False False  True  True\n",
      " False False  True False False  True False False False  True False False\n",
      " False False False False False False False False False False  True False\n",
      " False]' has dtype incompatible with int64, please explicitly cast to a compatible dtype first.\n",
      "  ytrain.loc[:,\"State\"]=ytrain.loc[:,\"State\"].astype(bool)\n",
      "/var/folders/tx/33p3vvbj575_4t2tg1fd6sy80000gn/T/ipykernel_24168/3072647113.py:11: FutureWarning: Setting an item of incompatible dtype is deprecated and will raise in a future error of pandas. Value '[False False False False False False False False False False False False\n",
      " False False False  True False False False False  True False False  True\n",
      " False False False False False  True False False False False False False\n",
      "  True False  True False False  True False False  True False False False\n",
      " False False  True False False  True False False False False False False]' has dtype incompatible with int64, please explicitly cast to a compatible dtype first.\n",
      "  ytest.loc[:,\"State\"]=ytest.loc[:,\"State\"].astype(bool)\n"
     ]
    }
   ],
   "source": [
    "ytrain=pd.DataFrame(ytrain)\n",
    "ytrain.columns=[\"ST\",\"State\"]\n",
    "ytrain.loc[:,\"State\"]=ytrain.loc[:,\"State\"].astype(bool)\n",
    "data=np.zeros(len(ytrain),dtype={'names':('cens','time'),'formats':('?','<f8')})\n",
    "data['cens']=ytrain.loc[:,\"State\"]\n",
    "data['time']=ytrain.loc[:,\"ST\"]\n",
    "ytrain=data\n",
    "\n",
    "ytest=pd.DataFrame(ytest)\n",
    "ytest.columns=[\"ST\",\"State\"]\n",
    "ytest.loc[:,\"State\"]=ytest.loc[:,\"State\"].astype(bool)\n",
    "data=np.zeros(len(ytest),dtype={'names':('cens','time'),'formats':('?','<f8')})\n",
    "data['cens']=ytest.loc[:,\"State\"]\n",
    "data['time']=ytest.loc[:,\"ST\"]\n",
    "ytest=data"
   ]
  },
  {
   "cell_type": "code",
   "execution_count": 8,
   "id": "84d3bb90",
   "metadata": {},
   "outputs": [
    {
     "name": "stdout",
     "output_type": "stream",
     "text": [
      "training data c-index: 0.963754\n",
      "testing data c-index: 0.668737\n"
     ]
    }
   ],
   "source": [
    "# fit a Random Surival Forest model with all metabolites\n",
    "rsf = RandomSurvivalForest(n_estimators=n_estimators,\n",
    "                          min_samples_split=min_samples_split,\n",
    "                          min_samples_leaf=min_samples_leaf,\n",
    "                          max_features=max_features,\n",
    "                          n_jobs=n_jobs,\n",
    "                          random_state=random_state)\n",
    "rsf.fit(Xtrain,ytrain)\n",
    "\n",
    "# using all metabolites as feature,and get a concordance index of 0.660458 in testing data\n",
    "print('training data c-index: %f' % rsf.score(Xtrain,ytrain))\n",
    "print('testing data c-index: %f' % rsf.score(Xtest,ytest))"
   ]
  },
  {
   "cell_type": "code",
   "execution_count": 9,
   "id": "1b68e66d",
   "metadata": {},
   "outputs": [],
   "source": [
    "# permutation-based Feature Importance\n",
    "perm = permutation_importance(estimator = rsf, \n",
    "                              X = Xtest,\n",
    "                              y = ytest,\n",
    "                              n_repeats=5, \n",
    "                              random_state=random_state)"
   ]
  },
  {
   "cell_type": "code",
   "execution_count": 17,
   "id": "4710bdb8",
   "metadata": {
    "collapsed": true
   },
   "outputs": [],
   "source": [
    "feature_importances=pd.DataFrame(perm.importances_mean, index=Xtest.columns, columns=[\"importance\"])\n",
    "std = perm.importances_std\n",
    "std = pd.DataFrame(std, index=Xtest.columns, columns=[\"std\"])\n",
    "feature_importances = pd.concat([feature_importances, std], axis=1)\n",
    "feature_importances = feature_importances.sort_values(by=\"importance\", ascending=False)\n",
    "feature_importances.to_excel(\"Results/Feature_importance.xlsx\")"
   ]
  },
  {
   "cell_type": "code",
   "execution_count": 20,
   "id": "94838ce2",
   "metadata": {
    "scrolled": true
   },
   "outputs": [
    {
     "name": "stdout",
     "output_type": "stream",
     "text": [
      "1\n",
      "2\n",
      "3\n",
      "4\n",
      "5\n",
      "6\n",
      "7\n",
      "8\n",
      "9\n",
      "10\n",
      "11\n",
      "12\n",
      "13\n",
      "14\n",
      "15\n",
      "16\n",
      "17\n",
      "18\n",
      "19\n",
      "20\n",
      "21\n",
      "22\n",
      "23\n",
      "24\n",
      "25\n",
      "26\n",
      "27\n",
      "28\n",
      "29\n",
      "30\n",
      "31\n",
      "32\n",
      "33\n",
      "34\n",
      "35\n",
      "36\n",
      "37\n",
      "38\n",
      "39\n",
      "40\n",
      "41\n",
      "42\n",
      "43\n",
      "44\n",
      "45\n",
      "46\n",
      "47\n",
      "48\n",
      "49\n",
      "50\n",
      "51\n",
      "52\n",
      "53\n",
      "54\n",
      "55\n",
      "56\n",
      "57\n",
      "58\n",
      "59\n",
      "60\n",
      "61\n",
      "62\n",
      "63\n",
      "64\n",
      "65\n",
      "66\n",
      "67\n",
      "68\n",
      "69\n",
      "70\n",
      "71\n",
      "72\n",
      "73\n",
      "74\n",
      "75\n",
      "76\n",
      "77\n",
      "78\n",
      "79\n",
      "80\n",
      "81\n",
      "82\n",
      "83\n",
      "84\n",
      "85\n",
      "86\n",
      "87\n",
      "88\n",
      "89\n",
      "90\n",
      "91\n",
      "92\n",
      "93\n",
      "94\n",
      "95\n",
      "96\n",
      "97\n",
      "98\n",
      "99\n",
      "100\n",
      "101\n",
      "102\n",
      "103\n",
      "104\n",
      "105\n",
      "106\n",
      "107\n",
      "108\n",
      "109\n",
      "110\n",
      "111\n",
      "112\n",
      "113\n",
      "114\n",
      "115\n",
      "116\n",
      "117\n",
      "118\n",
      "119\n",
      "120\n",
      "121\n",
      "122\n",
      "123\n",
      "124\n",
      "125\n",
      "126\n",
      "127\n",
      "128\n",
      "129\n",
      "130\n",
      "131\n",
      "132\n",
      "133\n",
      "134\n",
      "135\n",
      "136\n",
      "137\n",
      "138\n",
      "139\n",
      "140\n",
      "141\n",
      "142\n",
      "143\n",
      "144\n",
      "145\n",
      "146\n",
      "147\n"
     ]
    }
   ],
   "source": [
    "### Verification indicates that the model rebuilt after selecting the top few metabolites based on feature importance performs the best in terms of overall performance.\n",
    "test_c_index=[]\n",
    "train_c_index=[]\n",
    "times=[]\n",
    "for i in range(1,len(feature_importances)+1):\n",
    "    sel_feature=feature_importances.iloc[0:i].index.tolist()\n",
    "    Xtrain_sel=Xtrain.loc[:,sel_feature]\n",
    "    Xtest_sel=Xtest.loc[:,sel_feature]\n",
    "    rsf_sel = RandomSurvivalForest(n_estimators=1000,\n",
    "                           min_samples_split=10,\n",
    "                           min_samples_leaf=15,\n",
    "                           max_features=\"sqrt\",\n",
    "                           n_jobs=-1,\n",
    "                           random_state=random_state)\n",
    "    rsf_sel.fit(Xtrain_sel,ytrain)\n",
    "    train_c_index.append(rsf_sel.score(Xtrain_sel,ytrain))\n",
    "    test_c_index.append(rsf_sel.score(Xtest_sel,ytest))\n",
    "    times.append(i)\n",
    "    print(i)"
   ]
  },
  {
   "cell_type": "code",
   "execution_count": 21,
   "id": "a67b704a",
   "metadata": {},
   "outputs": [],
   "source": [
    "# Parameter optimization reveals that the best model prediction performance is achieved when the top 28 features are selected to rebuild the model\n",
    "sel_feature=feature_importances.iloc[0:28].index.tolist()\n",
    "### select the top 28 VIMP(feature importance) of unique metabolics as feature to train a new model\n",
    "Xtrain_sel=Xtrain.loc[:,sel_feature]\n",
    "Xtest_sel=Xtest.loc[:,sel_feature]"
   ]
  },
  {
   "cell_type": "code",
   "execution_count": 22,
   "id": "546a4d2c",
   "metadata": {},
   "outputs": [
    {
     "data": {
      "text/html": [
       "<style>#sk-container-id-1 {color: black;}#sk-container-id-1 pre{padding: 0;}#sk-container-id-1 div.sk-toggleable {background-color: white;}#sk-container-id-1 label.sk-toggleable__label {cursor: pointer;display: block;width: 100%;margin-bottom: 0;padding: 0.3em;box-sizing: border-box;text-align: center;}#sk-container-id-1 label.sk-toggleable__label-arrow:before {content: \"▸\";float: left;margin-right: 0.25em;color: #696969;}#sk-container-id-1 label.sk-toggleable__label-arrow:hover:before {color: black;}#sk-container-id-1 div.sk-estimator:hover label.sk-toggleable__label-arrow:before {color: black;}#sk-container-id-1 div.sk-toggleable__content {max-height: 0;max-width: 0;overflow: hidden;text-align: left;background-color: #f0f8ff;}#sk-container-id-1 div.sk-toggleable__content pre {margin: 0.2em;color: black;border-radius: 0.25em;background-color: #f0f8ff;}#sk-container-id-1 input.sk-toggleable__control:checked~div.sk-toggleable__content {max-height: 200px;max-width: 100%;overflow: auto;}#sk-container-id-1 input.sk-toggleable__control:checked~label.sk-toggleable__label-arrow:before {content: \"▾\";}#sk-container-id-1 div.sk-estimator input.sk-toggleable__control:checked~label.sk-toggleable__label {background-color: #d4ebff;}#sk-container-id-1 div.sk-label input.sk-toggleable__control:checked~label.sk-toggleable__label {background-color: #d4ebff;}#sk-container-id-1 input.sk-hidden--visually {border: 0;clip: rect(1px 1px 1px 1px);clip: rect(1px, 1px, 1px, 1px);height: 1px;margin: -1px;overflow: hidden;padding: 0;position: absolute;width: 1px;}#sk-container-id-1 div.sk-estimator {font-family: monospace;background-color: #f0f8ff;border: 1px dotted black;border-radius: 0.25em;box-sizing: border-box;margin-bottom: 0.5em;}#sk-container-id-1 div.sk-estimator:hover {background-color: #d4ebff;}#sk-container-id-1 div.sk-parallel-item::after {content: \"\";width: 100%;border-bottom: 1px solid gray;flex-grow: 1;}#sk-container-id-1 div.sk-label:hover label.sk-toggleable__label {background-color: #d4ebff;}#sk-container-id-1 div.sk-serial::before {content: \"\";position: absolute;border-left: 1px solid gray;box-sizing: border-box;top: 0;bottom: 0;left: 50%;z-index: 0;}#sk-container-id-1 div.sk-serial {display: flex;flex-direction: column;align-items: center;background-color: white;padding-right: 0.2em;padding-left: 0.2em;position: relative;}#sk-container-id-1 div.sk-item {position: relative;z-index: 1;}#sk-container-id-1 div.sk-parallel {display: flex;align-items: stretch;justify-content: center;background-color: white;position: relative;}#sk-container-id-1 div.sk-item::before, #sk-container-id-1 div.sk-parallel-item::before {content: \"\";position: absolute;border-left: 1px solid gray;box-sizing: border-box;top: 0;bottom: 0;left: 50%;z-index: -1;}#sk-container-id-1 div.sk-parallel-item {display: flex;flex-direction: column;z-index: 1;position: relative;background-color: white;}#sk-container-id-1 div.sk-parallel-item:first-child::after {align-self: flex-end;width: 50%;}#sk-container-id-1 div.sk-parallel-item:last-child::after {align-self: flex-start;width: 50%;}#sk-container-id-1 div.sk-parallel-item:only-child::after {width: 0;}#sk-container-id-1 div.sk-dashed-wrapped {border: 1px dashed gray;margin: 0 0.4em 0.5em 0.4em;box-sizing: border-box;padding-bottom: 0.4em;background-color: white;}#sk-container-id-1 div.sk-label label {font-family: monospace;font-weight: bold;display: inline-block;line-height: 1.2em;}#sk-container-id-1 div.sk-label-container {text-align: center;}#sk-container-id-1 div.sk-container {/* jupyter's `normalize.less` sets `[hidden] { display: none; }` but bootstrap.min.css set `[hidden] { display: none !important; }` so we also need the `!important` here to be able to override the default hidden behavior on the sphinx rendered scikit-learn.org. See: https://github.com/scikit-learn/scikit-learn/issues/21755 */display: inline-block !important;position: relative;}#sk-container-id-1 div.sk-text-repr-fallback {display: none;}</style><div id=\"sk-container-id-1\" class=\"sk-top-container\"><div class=\"sk-text-repr-fallback\"><pre>RandomSurvivalForest(min_samples_leaf=15, min_samples_split=10,\n",
       "                     n_estimators=1000, n_jobs=-1, random_state=20)</pre><b>In a Jupyter environment, please rerun this cell to show the HTML representation or trust the notebook. <br />On GitHub, the HTML representation is unable to render, please try loading this page with nbviewer.org.</b></div><div class=\"sk-container\" hidden><div class=\"sk-item\"><div class=\"sk-estimator sk-toggleable\"><input class=\"sk-toggleable__control sk-hidden--visually\" id=\"sk-estimator-id-1\" type=\"checkbox\" checked><label for=\"sk-estimator-id-1\" class=\"sk-toggleable__label sk-toggleable__label-arrow\">RandomSurvivalForest</label><div class=\"sk-toggleable__content\"><pre>RandomSurvivalForest(min_samples_leaf=15, min_samples_split=10,\n",
       "                     n_estimators=1000, n_jobs=-1, random_state=20)</pre></div></div></div></div></div>"
      ],
      "text/plain": [
       "RandomSurvivalForest(min_samples_leaf=15, min_samples_split=10,\n",
       "                     n_estimators=1000, n_jobs=-1, random_state=20)"
      ]
     },
     "execution_count": 22,
     "metadata": {},
     "output_type": "execute_result"
    }
   ],
   "source": [
    "rsf_sel = RandomSurvivalForest(n_estimators=1000,\n",
    "                           min_samples_split=10,\n",
    "                           min_samples_leaf=15,\n",
    "                           max_features=\"sqrt\",\n",
    "                           n_jobs=-1,\n",
    "                           random_state=random_state)\n",
    "rsf_sel.fit(Xtrain_sel,ytrain)"
   ]
  },
  {
   "cell_type": "code",
   "execution_count": 23,
   "id": "4b9cd2c2",
   "metadata": {
    "collapsed": true
   },
   "outputs": [
    {
     "name": "stdout",
     "output_type": "stream",
     "text": [
      "training data c-index: 0.912606\n",
      "testing data c-index: 0.813665\n"
     ]
    }
   ],
   "source": [
    "### using the top 12 VIMP of unique metabolics as feature,and get a concordance index of 0.916221 in testing data\n",
    "print('training data c-index: %f' % rsf_sel.score(Xtrain_sel,ytrain))\n",
    "print('testing data c-index: %f' % rsf_sel.score(Xtest_sel,ytest))"
   ]
  },
  {
   "cell_type": "code",
   "execution_count": 24,
   "id": "2b737be4",
   "metadata": {},
   "outputs": [],
   "source": [
    "perm = permutation_importance(estimator = rsf_sel,\n",
    "                                X = Xtest_sel,\n",
    "                                y = ytest,\n",
    "                                n_repeats=5, \n",
    "                                random_state=random_state)"
   ]
  },
  {
   "cell_type": "code",
   "execution_count": 25,
   "id": "6d12a877",
   "metadata": {},
   "outputs": [],
   "source": [
    "feature_importances=pd.DataFrame(perm.importances_mean, index=Xtest_sel.columns, columns=[\"importance\"])\n",
    "std = perm.importances_std\n",
    "std = pd.DataFrame(std, index=Xtest_sel.columns, columns=[\"std\"])\n",
    "feature_importances = pd.concat([feature_importances, std], axis=1)\n",
    "feature_importances = feature_importances.sort_values(by=\"importance\", ascending=False)\n",
    "feature_importances.to_excel(\"Results/Feature_importance_sel.xlsx\")"
   ]
  },
  {
   "cell_type": "code",
   "execution_count": 26,
   "id": "e54cf4f7",
   "metadata": {},
   "outputs": [],
   "source": [
    "risk_score=pd.Series(rsf_sel.predict(Xtest_sel))\n",
    "cens=ytest[\"cens\"].astype('int')\n",
    "time=ytest['time'].astype('float')\n",
    "risk=pd.DataFrame({\"risk_score\":risk_score,\"OS\":time,\"State\":cens,\"Sample\":Xtest_sample})\n",
    "State=cens\n",
    "risk_score_Xtrain=pd.Series(rsf_sel.predict(Xtrain_sel))\n",
    "cens_Xtrain=ytrain[\"cens\"].astype('int')\n",
    "time_Xtrain=ytrain['time'].astype('float')\n",
    "risk_Xtrain=pd.DataFrame({\"risk_score\":risk_score_Xtrain,\"OS\":time_Xtrain,\"State\":cens_Xtrain,\"Sample\":Xtrain_sample})\n",
    "State_Xtrain=cens_Xtrain"
   ]
  },
  {
   "cell_type": "code",
   "execution_count": 27,
   "id": "22a23577",
   "metadata": {},
   "outputs": [],
   "source": [
    "n_bootstraps = 1000\n",
    "def CI(y_true, y_pred):\n",
    "    bootstrapped_scores = []\n",
    "    print(\"auroc score:\", roc_auc_score(y_true, y_pred))\n",
    "    rng = np.random.RandomState(rng_seed)\n",
    "    for i in range(n_bootstraps):\n",
    "        # bootstrap by sampling with replacement on the prediction indices\n",
    "        indices = rng.randint(0, len(y_pred), len(y_pred))\n",
    "        if len(np.unique(y_true[indices])) < 2:\n",
    "            # We need at least one positive and one negative sample for ROC AUC\n",
    "            # to be defined: reject the sample\n",
    "            continue\n",
    "\n",
    "        score = roc_auc_score(y_true[indices], y_pred[indices])\n",
    "        bootstrapped_scores.append(score)\n",
    "        #print(\"Bootstrap #{} ROC area: {:0.3f}\".format(i + 1, score))\n",
    "    sorted_scores = np.array(bootstrapped_scores)\n",
    "    sorted_scores.sort()\n",
    "\n",
    "    # Computing the lower and upper bound of the 90% confidence interval\n",
    "    # You can change the bounds percentiles to 0.025 and 0.975 to get\n",
    "    # a 95% confidence interval instead.\n",
    "    confidence_lower = sorted_scores[int(0.05 * len(sorted_scores))]\n",
    "    confidence_upper = sorted_scores[int(0.95 * len(sorted_scores))]\n",
    "    print(\"Confidence interval for the score: [{:0.3f} - {:0.3}]\".format(\n",
    "        confidence_lower, confidence_upper))\n",
    "    return confidence_lower, confidence_upper"
   ]
  },
  {
   "cell_type": "code",
   "execution_count": 28,
   "id": "34bf4018",
   "metadata": {},
   "outputs": [
    {
     "name": "stdout",
     "output_type": "stream",
     "text": [
      "auroc score: 0.8200000000000001\n",
      "Confidence interval for the score: [0.683 - 0.941]\n"
     ]
    },
    {
     "data": {
      "image/png": "[encoded data removed]",
      "text/plain": [
       "<Figure size 800x800 with 1 Axes>"
      ]
     },
     "metadata": {},
     "output_type": "display_data"
    }
   ],
   "source": [
    "rng_seed=10\n",
    "plot_name=\"prognositic\"\n",
    "plt.figure(figsize=(8, 8))\n",
    "fpr, tpr, _ = roc_curve(State, risk_score)\n",
    "raw=roc_auc_score(State, risk_score)\n",
    "r , l = CI(State, risk_score)\n",
    "tex = 'Lasso: AUROC={:0.3f}\\n95%CI: {:0.3f} - {:0.3f}'.format(raw,r,l)\n",
    "plt.plot(fpr, tpr, lw=2, label=tex)\n",
    "    \n",
    "plt.plot([0, 1], [0, 1], color='navy', lw=2, linestyle='--')\n",
    "plt.xlim([-0.008, 1.0])\n",
    "plt.ylim([0.0, 1.01])\n",
    "plt.xlabel('False Positive Rate', fontdict={'size'   : 20})\n",
    "plt.ylabel('True Positive Rate', fontdict={'size'   : 20})\n",
    "#plt.title(exp_to_run, fontdict={'size'   : 20})\n",
    "plt.yticks(size = 16)\n",
    "plt.xticks(size = 16)  \n",
    "plt.legend(loc=\"lower right\",fontsize=20)\n",
    "#plt.savefig(\"../../胃癌/GC/GC_prognostic_OS_AUC.svg\".format(plot_name))\n",
    "plt.savefig(\"Figures/GC_prognostic_OS_AUC.pdf\".format(plot_name))\n",
    "#plt.show()\n"
   ]
  }
 ],
 "metadata": {
  "kernelspec": {
   "display_name": "RIF",
   "language": "python",
   "name": "python3"
  },
  "language_info": {
   "codemirror_mode": {
    "name": "ipython",
    "version": 3
   },
   "file_extension": ".py",
   "mimetype": "text/x-python",
   "name": "python",
   "nbconvert_exporter": "python",
   "pygments_lexer": "ipython3",
   "version": "3.10.14"
  }
 },
 "nbformat": 4,
 "nbformat_minor": 5
}
